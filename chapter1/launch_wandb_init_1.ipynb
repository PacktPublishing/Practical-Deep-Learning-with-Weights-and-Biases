{
  "nbformat": 4,
  "nbformat_minor": 0,
  "metadata": {
    "colab": {
      "name": "launch_wandb_init_1.ipynb",
      "provenance": [],
      "collapsed_sections": [],
      "authorship_tag": "ABX9TyNN3QT+n9BN/pkqHnWrOtyy",
      "include_colab_link": true
    },
    "kernelspec": {
      "name": "python3",
      "display_name": "Python 3"
    },
    "language_info": {
      "name": "python"
    }
  },
  "cells": [
    {
      "cell_type": "markdown",
      "metadata": {
        "id": "view-in-github",
        "colab_type": "text"
      },
      "source": [
        "<a href=\"https://colab.research.google.com/github/ayulockin/Practical-Deep-Learning-with-Weights-and-Biases/blob/main/chapter1/launch_wandb_init_1.ipynb\" target=\"_parent\"><img src=\"https://colab.research.google.com/assets/colab-badge.svg\" alt=\"Open In Colab\"/></a>"
      ]
    },
    {
      "cell_type": "markdown",
      "metadata": {
        "id": "EmmHPZeCyGku"
      },
      "source": [
        "# ⚡ Step 1: Install Weights and Biases from PyPI"
      ]
    },
    {
      "cell_type": "code",
      "metadata": {
        "id": "eHVp3Sv5wWE9"
      },
      "source": [
        "!pip install --upgrade wandb"
      ],
      "execution_count": null,
      "outputs": []
    },
    {
      "cell_type": "markdown",
      "metadata": {
        "id": "RWdObfUAyWah"
      },
      "source": [
        "# ⛄ Step 2: Import and Login\n",
        "\n",
        "If you have not yet created a W&B account you can visit https://wandb.ai/site to do the same. "
      ]
    },
    {
      "cell_type": "code",
      "metadata": {
        "id": "1EbyEiuIyK53"
      },
      "source": [
        "import wandb\n",
        "\n",
        "!wandb login"
      ],
      "execution_count": null,
      "outputs": []
    },
    {
      "cell_type": "code",
      "metadata": {
        "id": "OXcuhzFb0HfK"
      },
      "source": [
        "# Extra import\n",
        "import numpy as np"
      ],
      "execution_count": 6,
      "outputs": []
    },
    {
      "cell_type": "markdown",
      "metadata": {
        "id": "UevbSaIh1_7F"
      },
      "source": [
        "# ❄️ Create Data"
      ]
    },
    {
      "cell_type": "code",
      "metadata": {
        "id": "N4q4q6QA2CBx"
      },
      "source": [
        "DECAY_RATE = 2\n",
        "\n",
        "# x-axis\n",
        "x = np.linspace(0, 10, 100)\n",
        "\n",
        "# y-axis\n",
        "y = np.exp(-x/DECAY_RATE)"
      ],
      "execution_count": 17,
      "outputs": []
    },
    {
      "cell_type": "markdown",
      "metadata": {
        "id": "O85yVwgby9MT"
      },
      "source": [
        "# 🌊 Step 3: Launch your first W&B Run\n",
        "\n",
        "Note that this is a dummy run, i.e, we are not logging/tracking anything meaninful. If it your first time using Weights and Biases, understand that the mentioned steps is all you need to instrument any training, evaluation, etc pipeline with W&B."
      ]
    },
    {
      "cell_type": "code",
      "metadata": {
        "id": "RgnJ2ozyybkp"
      },
      "source": [
        "# 1. Use `wandb.init` to initialize a run.\n",
        "run = wandb.init(project='my-simple-project', name='my-dummy-run')\n",
        "\n",
        "# 2. Use `wandb.log` to log almost anything (scalar, vector, images, text, video, etc.)\n",
        "for i in y:\n",
        "  wandb.log({'dummy_value': i})\n",
        "\n",
        "# 3. Close the W&B run. Only required in Jupyter notebooks.\n",
        "wandb.finish()"
      ],
      "execution_count": null,
      "outputs": []
    },
    {
      "cell_type": "markdown",
      "metadata": {
        "id": "ArrQL9G62PIE"
      },
      "source": [
        "Click on the W&B Run page link above and head over to the W&B run page. \n",
        "\n",
        "![img](https://i.imgur.com/VlMuHE9.png)"
      ]
    }
  ]
}