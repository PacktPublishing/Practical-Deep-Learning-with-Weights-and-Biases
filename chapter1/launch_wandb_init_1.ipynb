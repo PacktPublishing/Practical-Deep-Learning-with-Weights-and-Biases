{
  "nbformat": 4,
  "nbformat_minor": 0,
  "metadata": {
    "colab": {
      "name": "launch_wandb_init_1.ipynb",
      "provenance": [],
      "collapsed_sections": [],
      "authorship_tag": "ABX9TyNN3QT+n9BN/pkqHnWrOtyy",
      "include_colab_link": true
    },
    "kernelspec": {
      "name": "python3",
      "display_name": "Python 3"
    },
    "language_info": {
      "name": "python"
    },
    "widgets": {
      "application/vnd.jupyter.widget-state+json": {
        "dd3c10042c5a4ceeb70c721ddc8c40a9": {
          "model_module": "@jupyter-widgets/controls",
          "model_name": "VBoxModel",
          "model_module_version": "1.5.0",
          "state": {
            "_view_name": "VBoxView",
            "_dom_classes": [],
            "_model_name": "VBoxModel",
            "_view_module": "@jupyter-widgets/controls",
            "_model_module_version": "1.5.0",
            "_view_count": null,
            "_view_module_version": "1.5.0",
            "box_style": "",
            "layout": "IPY_MODEL_8bd6410cf3bd4277acda6e0aeae88a52",
            "_model_module": "@jupyter-widgets/controls",
            "children": [
              "IPY_MODEL_2b3826dd7a1d412e93d7ee4d1eaa9644",
              "IPY_MODEL_fba490b6e40048c09a05dba9ed2ffb72"
            ]
          }
        },
        "8bd6410cf3bd4277acda6e0aeae88a52": {
          "model_module": "@jupyter-widgets/base",
          "model_name": "LayoutModel",
          "model_module_version": "1.2.0",
          "state": {
            "_view_name": "LayoutView",
            "grid_template_rows": null,
            "right": null,
            "justify_content": null,
            "_view_module": "@jupyter-widgets/base",
            "overflow": null,
            "_model_module_version": "1.2.0",
            "_view_count": null,
            "flex_flow": null,
            "width": null,
            "min_width": null,
            "border": null,
            "align_items": null,
            "bottom": null,
            "_model_module": "@jupyter-widgets/base",
            "top": null,
            "grid_column": null,
            "overflow_y": null,
            "overflow_x": null,
            "grid_auto_flow": null,
            "grid_area": null,
            "grid_template_columns": null,
            "flex": null,
            "_model_name": "LayoutModel",
            "justify_items": null,
            "grid_row": null,
            "max_height": null,
            "align_content": null,
            "visibility": null,
            "align_self": null,
            "height": null,
            "min_height": null,
            "padding": null,
            "grid_auto_rows": null,
            "grid_gap": null,
            "max_width": null,
            "order": null,
            "_view_module_version": "1.2.0",
            "grid_template_areas": null,
            "object_position": null,
            "object_fit": null,
            "grid_auto_columns": null,
            "margin": null,
            "display": null,
            "left": null
          }
        },
        "2b3826dd7a1d412e93d7ee4d1eaa9644": {
          "model_module": "@jupyter-widgets/controls",
          "model_name": "LabelModel",
          "model_module_version": "1.5.0",
          "state": {
            "_view_name": "LabelView",
            "style": "IPY_MODEL_343ff83a2cac4941bb1166fb920df901",
            "_dom_classes": [],
            "description": "",
            "_model_name": "LabelModel",
            "placeholder": "​",
            "_view_module": "@jupyter-widgets/controls",
            "_model_module_version": "1.5.0",
            "value": " 0.01MB of 0.01MB uploaded (0.00MB deduped)\r",
            "_view_count": null,
            "_view_module_version": "1.5.0",
            "description_tooltip": null,
            "_model_module": "@jupyter-widgets/controls",
            "layout": "IPY_MODEL_685647bbdc6341689161c765f87f6b34"
          }
        },
        "fba490b6e40048c09a05dba9ed2ffb72": {
          "model_module": "@jupyter-widgets/controls",
          "model_name": "FloatProgressModel",
          "model_module_version": "1.5.0",
          "state": {
            "_view_name": "ProgressView",
            "style": "IPY_MODEL_db4dc353b7064cc8acca4b679ca45454",
            "_dom_classes": [],
            "description": "",
            "_model_name": "FloatProgressModel",
            "bar_style": "",
            "max": 1,
            "_view_module": "@jupyter-widgets/controls",
            "_model_module_version": "1.5.0",
            "value": 1,
            "_view_count": null,
            "_view_module_version": "1.5.0",
            "orientation": "horizontal",
            "min": 0,
            "description_tooltip": null,
            "_model_module": "@jupyter-widgets/controls",
            "layout": "IPY_MODEL_e52fbff46ce2438f81d01aac9dbef8bc"
          }
        },
        "343ff83a2cac4941bb1166fb920df901": {
          "model_module": "@jupyter-widgets/controls",
          "model_name": "DescriptionStyleModel",
          "model_module_version": "1.5.0",
          "state": {
            "_view_name": "StyleView",
            "_model_name": "DescriptionStyleModel",
            "description_width": "",
            "_view_module": "@jupyter-widgets/base",
            "_model_module_version": "1.5.0",
            "_view_count": null,
            "_view_module_version": "1.2.0",
            "_model_module": "@jupyter-widgets/controls"
          }
        },
        "685647bbdc6341689161c765f87f6b34": {
          "model_module": "@jupyter-widgets/base",
          "model_name": "LayoutModel",
          "model_module_version": "1.2.0",
          "state": {
            "_view_name": "LayoutView",
            "grid_template_rows": null,
            "right": null,
            "justify_content": null,
            "_view_module": "@jupyter-widgets/base",
            "overflow": null,
            "_model_module_version": "1.2.0",
            "_view_count": null,
            "flex_flow": null,
            "width": null,
            "min_width": null,
            "border": null,
            "align_items": null,
            "bottom": null,
            "_model_module": "@jupyter-widgets/base",
            "top": null,
            "grid_column": null,
            "overflow_y": null,
            "overflow_x": null,
            "grid_auto_flow": null,
            "grid_area": null,
            "grid_template_columns": null,
            "flex": null,
            "_model_name": "LayoutModel",
            "justify_items": null,
            "grid_row": null,
            "max_height": null,
            "align_content": null,
            "visibility": null,
            "align_self": null,
            "height": null,
            "min_height": null,
            "padding": null,
            "grid_auto_rows": null,
            "grid_gap": null,
            "max_width": null,
            "order": null,
            "_view_module_version": "1.2.0",
            "grid_template_areas": null,
            "object_position": null,
            "object_fit": null,
            "grid_auto_columns": null,
            "margin": null,
            "display": null,
            "left": null
          }
        },
        "db4dc353b7064cc8acca4b679ca45454": {
          "model_module": "@jupyter-widgets/controls",
          "model_name": "ProgressStyleModel",
          "model_module_version": "1.5.0",
          "state": {
            "_view_name": "StyleView",
            "_model_name": "ProgressStyleModel",
            "description_width": "",
            "_view_module": "@jupyter-widgets/base",
            "_model_module_version": "1.5.0",
            "_view_count": null,
            "_view_module_version": "1.2.0",
            "bar_color": null,
            "_model_module": "@jupyter-widgets/controls"
          }
        },
        "e52fbff46ce2438f81d01aac9dbef8bc": {
          "model_module": "@jupyter-widgets/base",
          "model_name": "LayoutModel",
          "model_module_version": "1.2.0",
          "state": {
            "_view_name": "LayoutView",
            "grid_template_rows": null,
            "right": null,
            "justify_content": null,
            "_view_module": "@jupyter-widgets/base",
            "overflow": null,
            "_model_module_version": "1.2.0",
            "_view_count": null,
            "flex_flow": null,
            "width": null,
            "min_width": null,
            "border": null,
            "align_items": null,
            "bottom": null,
            "_model_module": "@jupyter-widgets/base",
            "top": null,
            "grid_column": null,
            "overflow_y": null,
            "overflow_x": null,
            "grid_auto_flow": null,
            "grid_area": null,
            "grid_template_columns": null,
            "flex": null,
            "_model_name": "LayoutModel",
            "justify_items": null,
            "grid_row": null,
            "max_height": null,
            "align_content": null,
            "visibility": null,
            "align_self": null,
            "height": null,
            "min_height": null,
            "padding": null,
            "grid_auto_rows": null,
            "grid_gap": null,
            "max_width": null,
            "order": null,
            "_view_module_version": "1.2.0",
            "grid_template_areas": null,
            "object_position": null,
            "object_fit": null,
            "grid_auto_columns": null,
            "margin": null,
            "display": null,
            "left": null
          }
        }
      }
    }
  },
  "cells": [
    {
      "cell_type": "markdown",
      "metadata": {
        "id": "view-in-github",
        "colab_type": "text"
      },
      "source": [
        "<a href=\"https://colab.research.google.com/github/ayulockin/Practical-Deep-Learning-with-Weights-and-Biases/blob/main/chapter1/launch_wandb_init_1.ipynb\" target=\"_parent\"><img src=\"https://colab.research.google.com/assets/colab-badge.svg\" alt=\"Open In Colab\"/></a>"
      ]
    },
    {
      "cell_type": "markdown",
      "metadata": {
        "id": "EmmHPZeCyGku"
      },
      "source": [
        "# ⚡ Step 1: Install Weights and Biases from PyPI"
      ]
    },
    {
      "cell_type": "code",
      "metadata": {
        "colab": {
          "base_uri": "https://localhost:8080/"
        },
        "id": "eHVp3Sv5wWE9",
        "outputId": "9319a469-fb09-4898-817c-ff4e0285af5d"
      },
      "source": [
        "!pip install --upgrade wandb"
      ],
      "execution_count": 1,
      "outputs": [
        {
          "output_type": "stream",
          "name": "stdout",
          "text": [
            "Collecting wandb\n",
            "  Downloading wandb-0.12.1-py2.py3-none-any.whl (1.7 MB)\n",
            "\u001b[?25l\r\u001b[K     |▏                               | 10 kB 22.8 MB/s eta 0:00:01\r\u001b[K     |▍                               | 20 kB 29.3 MB/s eta 0:00:01\r\u001b[K     |▋                               | 30 kB 29.1 MB/s eta 0:00:01\r\u001b[K     |▉                               | 40 kB 19.7 MB/s eta 0:00:01\r\u001b[K     |█                               | 51 kB 10.4 MB/s eta 0:00:01\r\u001b[K     |█▏                              | 61 kB 10.4 MB/s eta 0:00:01\r\u001b[K     |█▍                              | 71 kB 8.4 MB/s eta 0:00:01\r\u001b[K     |█▋                              | 81 kB 9.3 MB/s eta 0:00:01\r\u001b[K     |█▉                              | 92 kB 8.5 MB/s eta 0:00:01\r\u001b[K     |██                              | 102 kB 9.2 MB/s eta 0:00:01\r\u001b[K     |██▏                             | 112 kB 9.2 MB/s eta 0:00:01\r\u001b[K     |██▍                             | 122 kB 9.2 MB/s eta 0:00:01\r\u001b[K     |██▋                             | 133 kB 9.2 MB/s eta 0:00:01\r\u001b[K     |██▊                             | 143 kB 9.2 MB/s eta 0:00:01\r\u001b[K     |███                             | 153 kB 9.2 MB/s eta 0:00:01\r\u001b[K     |███▏                            | 163 kB 9.2 MB/s eta 0:00:01\r\u001b[K     |███▍                            | 174 kB 9.2 MB/s eta 0:00:01\r\u001b[K     |███▋                            | 184 kB 9.2 MB/s eta 0:00:01\r\u001b[K     |███▊                            | 194 kB 9.2 MB/s eta 0:00:01\r\u001b[K     |████                            | 204 kB 9.2 MB/s eta 0:00:01\r\u001b[K     |████▏                           | 215 kB 9.2 MB/s eta 0:00:01\r\u001b[K     |████▍                           | 225 kB 9.2 MB/s eta 0:00:01\r\u001b[K     |████▌                           | 235 kB 9.2 MB/s eta 0:00:01\r\u001b[K     |████▊                           | 245 kB 9.2 MB/s eta 0:00:01\r\u001b[K     |█████                           | 256 kB 9.2 MB/s eta 0:00:01\r\u001b[K     |█████▏                          | 266 kB 9.2 MB/s eta 0:00:01\r\u001b[K     |█████▍                          | 276 kB 9.2 MB/s eta 0:00:01\r\u001b[K     |█████▌                          | 286 kB 9.2 MB/s eta 0:00:01\r\u001b[K     |█████▊                          | 296 kB 9.2 MB/s eta 0:00:01\r\u001b[K     |██████                          | 307 kB 9.2 MB/s eta 0:00:01\r\u001b[K     |██████▏                         | 317 kB 9.2 MB/s eta 0:00:01\r\u001b[K     |██████▎                         | 327 kB 9.2 MB/s eta 0:00:01\r\u001b[K     |██████▌                         | 337 kB 9.2 MB/s eta 0:00:01\r\u001b[K     |██████▊                         | 348 kB 9.2 MB/s eta 0:00:01\r\u001b[K     |███████                         | 358 kB 9.2 MB/s eta 0:00:01\r\u001b[K     |███████▏                        | 368 kB 9.2 MB/s eta 0:00:01\r\u001b[K     |███████▎                        | 378 kB 9.2 MB/s eta 0:00:01\r\u001b[K     |███████▌                        | 389 kB 9.2 MB/s eta 0:00:01\r\u001b[K     |███████▊                        | 399 kB 9.2 MB/s eta 0:00:01\r\u001b[K     |████████                        | 409 kB 9.2 MB/s eta 0:00:01\r\u001b[K     |████████                        | 419 kB 9.2 MB/s eta 0:00:01\r\u001b[K     |████████▎                       | 430 kB 9.2 MB/s eta 0:00:01\r\u001b[K     |████████▌                       | 440 kB 9.2 MB/s eta 0:00:01\r\u001b[K     |████████▊                       | 450 kB 9.2 MB/s eta 0:00:01\r\u001b[K     |█████████                       | 460 kB 9.2 MB/s eta 0:00:01\r\u001b[K     |█████████                       | 471 kB 9.2 MB/s eta 0:00:01\r\u001b[K     |█████████▎                      | 481 kB 9.2 MB/s eta 0:00:01\r\u001b[K     |█████████▌                      | 491 kB 9.2 MB/s eta 0:00:01\r\u001b[K     |█████████▊                      | 501 kB 9.2 MB/s eta 0:00:01\r\u001b[K     |█████████▉                      | 512 kB 9.2 MB/s eta 0:00:01\r\u001b[K     |██████████                      | 522 kB 9.2 MB/s eta 0:00:01\r\u001b[K     |██████████▎                     | 532 kB 9.2 MB/s eta 0:00:01\r\u001b[K     |██████████▌                     | 542 kB 9.2 MB/s eta 0:00:01\r\u001b[K     |██████████▊                     | 552 kB 9.2 MB/s eta 0:00:01\r\u001b[K     |██████████▉                     | 563 kB 9.2 MB/s eta 0:00:01\r\u001b[K     |███████████                     | 573 kB 9.2 MB/s eta 0:00:01\r\u001b[K     |███████████▎                    | 583 kB 9.2 MB/s eta 0:00:01\r\u001b[K     |███████████▌                    | 593 kB 9.2 MB/s eta 0:00:01\r\u001b[K     |███████████▋                    | 604 kB 9.2 MB/s eta 0:00:01\r\u001b[K     |███████████▉                    | 614 kB 9.2 MB/s eta 0:00:01\r\u001b[K     |████████████                    | 624 kB 9.2 MB/s eta 0:00:01\r\u001b[K     |████████████▎                   | 634 kB 9.2 MB/s eta 0:00:01\r\u001b[K     |████████████▌                   | 645 kB 9.2 MB/s eta 0:00:01\r\u001b[K     |████████████▋                   | 655 kB 9.2 MB/s eta 0:00:01\r\u001b[K     |████████████▉                   | 665 kB 9.2 MB/s eta 0:00:01\r\u001b[K     |█████████████                   | 675 kB 9.2 MB/s eta 0:00:01\r\u001b[K     |█████████████▎                  | 686 kB 9.2 MB/s eta 0:00:01\r\u001b[K     |█████████████▍                  | 696 kB 9.2 MB/s eta 0:00:01\r\u001b[K     |█████████████▋                  | 706 kB 9.2 MB/s eta 0:00:01\r\u001b[K     |█████████████▉                  | 716 kB 9.2 MB/s eta 0:00:01\r\u001b[K     |██████████████                  | 727 kB 9.2 MB/s eta 0:00:01\r\u001b[K     |██████████████▎                 | 737 kB 9.2 MB/s eta 0:00:01\r\u001b[K     |██████████████▍                 | 747 kB 9.2 MB/s eta 0:00:01\r\u001b[K     |██████████████▋                 | 757 kB 9.2 MB/s eta 0:00:01\r\u001b[K     |██████████████▉                 | 768 kB 9.2 MB/s eta 0:00:01\r\u001b[K     |███████████████                 | 778 kB 9.2 MB/s eta 0:00:01\r\u001b[K     |███████████████▎                | 788 kB 9.2 MB/s eta 0:00:01\r\u001b[K     |███████████████▍                | 798 kB 9.2 MB/s eta 0:00:01\r\u001b[K     |███████████████▋                | 808 kB 9.2 MB/s eta 0:00:01\r\u001b[K     |███████████████▉                | 819 kB 9.2 MB/s eta 0:00:01\r\u001b[K     |████████████████                | 829 kB 9.2 MB/s eta 0:00:01\r\u001b[K     |████████████████▏               | 839 kB 9.2 MB/s eta 0:00:01\r\u001b[K     |████████████████▍               | 849 kB 9.2 MB/s eta 0:00:01\r\u001b[K     |████████████████▋               | 860 kB 9.2 MB/s eta 0:00:01\r\u001b[K     |████████████████▉               | 870 kB 9.2 MB/s eta 0:00:01\r\u001b[K     |█████████████████               | 880 kB 9.2 MB/s eta 0:00:01\r\u001b[K     |█████████████████▏              | 890 kB 9.2 MB/s eta 0:00:01\r\u001b[K     |█████████████████▍              | 901 kB 9.2 MB/s eta 0:00:01\r\u001b[K     |█████████████████▋              | 911 kB 9.2 MB/s eta 0:00:01\r\u001b[K     |█████████████████▉              | 921 kB 9.2 MB/s eta 0:00:01\r\u001b[K     |██████████████████              | 931 kB 9.2 MB/s eta 0:00:01\r\u001b[K     |██████████████████▏             | 942 kB 9.2 MB/s eta 0:00:01\r\u001b[K     |██████████████████▍             | 952 kB 9.2 MB/s eta 0:00:01\r\u001b[K     |██████████████████▋             | 962 kB 9.2 MB/s eta 0:00:01\r\u001b[K     |██████████████████▉             | 972 kB 9.2 MB/s eta 0:00:01\r\u001b[K     |███████████████████             | 983 kB 9.2 MB/s eta 0:00:01\r\u001b[K     |███████████████████▏            | 993 kB 9.2 MB/s eta 0:00:01\r\u001b[K     |███████████████████▍            | 1.0 MB 9.2 MB/s eta 0:00:01\r\u001b[K     |███████████████████▋            | 1.0 MB 9.2 MB/s eta 0:00:01\r\u001b[K     |███████████████████▊            | 1.0 MB 9.2 MB/s eta 0:00:01\r\u001b[K     |████████████████████            | 1.0 MB 9.2 MB/s eta 0:00:01\r\u001b[K     |████████████████████▏           | 1.0 MB 9.2 MB/s eta 0:00:01\r\u001b[K     |████████████████████▍           | 1.1 MB 9.2 MB/s eta 0:00:01\r\u001b[K     |████████████████████▋           | 1.1 MB 9.2 MB/s eta 0:00:01\r\u001b[K     |████████████████████▊           | 1.1 MB 9.2 MB/s eta 0:00:01\r\u001b[K     |█████████████████████           | 1.1 MB 9.2 MB/s eta 0:00:01\r\u001b[K     |█████████████████████▏          | 1.1 MB 9.2 MB/s eta 0:00:01\r\u001b[K     |█████████████████████▍          | 1.1 MB 9.2 MB/s eta 0:00:01\r\u001b[K     |█████████████████████▌          | 1.1 MB 9.2 MB/s eta 0:00:01\r\u001b[K     |█████████████████████▊          | 1.1 MB 9.2 MB/s eta 0:00:01\r\u001b[K     |██████████████████████          | 1.1 MB 9.2 MB/s eta 0:00:01\r\u001b[K     |██████████████████████▏         | 1.1 MB 9.2 MB/s eta 0:00:01\r\u001b[K     |██████████████████████▍         | 1.2 MB 9.2 MB/s eta 0:00:01\r\u001b[K     |██████████████████████▌         | 1.2 MB 9.2 MB/s eta 0:00:01\r\u001b[K     |██████████████████████▊         | 1.2 MB 9.2 MB/s eta 0:00:01\r\u001b[K     |███████████████████████         | 1.2 MB 9.2 MB/s eta 0:00:01\r\u001b[K     |███████████████████████▏        | 1.2 MB 9.2 MB/s eta 0:00:01\r\u001b[K     |███████████████████████▎        | 1.2 MB 9.2 MB/s eta 0:00:01\r\u001b[K     |███████████████████████▌        | 1.2 MB 9.2 MB/s eta 0:00:01\r\u001b[K     |███████████████████████▊        | 1.2 MB 9.2 MB/s eta 0:00:01\r\u001b[K     |████████████████████████        | 1.2 MB 9.2 MB/s eta 0:00:01\r\u001b[K     |████████████████████████▏       | 1.2 MB 9.2 MB/s eta 0:00:01\r\u001b[K     |████████████████████████▎       | 1.3 MB 9.2 MB/s eta 0:00:01\r\u001b[K     |████████████████████████▌       | 1.3 MB 9.2 MB/s eta 0:00:01\r\u001b[K     |████████████████████████▊       | 1.3 MB 9.2 MB/s eta 0:00:01\r\u001b[K     |█████████████████████████       | 1.3 MB 9.2 MB/s eta 0:00:01\r\u001b[K     |█████████████████████████       | 1.3 MB 9.2 MB/s eta 0:00:01\r\u001b[K     |█████████████████████████▎      | 1.3 MB 9.2 MB/s eta 0:00:01\r\u001b[K     |█████████████████████████▌      | 1.3 MB 9.2 MB/s eta 0:00:01\r\u001b[K     |█████████████████████████▊      | 1.3 MB 9.2 MB/s eta 0:00:01\r\u001b[K     |██████████████████████████      | 1.3 MB 9.2 MB/s eta 0:00:01\r\u001b[K     |██████████████████████████      | 1.4 MB 9.2 MB/s eta 0:00:01\r\u001b[K     |██████████████████████████▎     | 1.4 MB 9.2 MB/s eta 0:00:01\r\u001b[K     |██████████████████████████▌     | 1.4 MB 9.2 MB/s eta 0:00:01\r\u001b[K     |██████████████████████████▊     | 1.4 MB 9.2 MB/s eta 0:00:01\r\u001b[K     |██████████████████████████▉     | 1.4 MB 9.2 MB/s eta 0:00:01\r\u001b[K     |███████████████████████████     | 1.4 MB 9.2 MB/s eta 0:00:01\r\u001b[K     |███████████████████████████▎    | 1.4 MB 9.2 MB/s eta 0:00:01\r\u001b[K     |███████████████████████████▌    | 1.4 MB 9.2 MB/s eta 0:00:01\r\u001b[K     |███████████████████████████▊    | 1.4 MB 9.2 MB/s eta 0:00:01\r\u001b[K     |███████████████████████████▉    | 1.4 MB 9.2 MB/s eta 0:00:01\r\u001b[K     |████████████████████████████    | 1.5 MB 9.2 MB/s eta 0:00:01\r\u001b[K     |████████████████████████████▎   | 1.5 MB 9.2 MB/s eta 0:00:01\r\u001b[K     |████████████████████████████▌   | 1.5 MB 9.2 MB/s eta 0:00:01\r\u001b[K     |████████████████████████████▊   | 1.5 MB 9.2 MB/s eta 0:00:01\r\u001b[K     |████████████████████████████▉   | 1.5 MB 9.2 MB/s eta 0:00:01\r\u001b[K     |█████████████████████████████   | 1.5 MB 9.2 MB/s eta 0:00:01\r\u001b[K     |█████████████████████████████▎  | 1.5 MB 9.2 MB/s eta 0:00:01\r\u001b[K     |█████████████████████████████▌  | 1.5 MB 9.2 MB/s eta 0:00:01\r\u001b[K     |█████████████████████████████▋  | 1.5 MB 9.2 MB/s eta 0:00:01\r\u001b[K     |█████████████████████████████▉  | 1.5 MB 9.2 MB/s eta 0:00:01\r\u001b[K     |██████████████████████████████  | 1.6 MB 9.2 MB/s eta 0:00:01\r\u001b[K     |██████████████████████████████▎ | 1.6 MB 9.2 MB/s eta 0:00:01\r\u001b[K     |██████████████████████████████▌ | 1.6 MB 9.2 MB/s eta 0:00:01\r\u001b[K     |██████████████████████████████▋ | 1.6 MB 9.2 MB/s eta 0:00:01\r\u001b[K     |██████████████████████████████▉ | 1.6 MB 9.2 MB/s eta 0:00:01\r\u001b[K     |███████████████████████████████ | 1.6 MB 9.2 MB/s eta 0:00:01\r\u001b[K     |███████████████████████████████▎| 1.6 MB 9.2 MB/s eta 0:00:01\r\u001b[K     |███████████████████████████████▍| 1.6 MB 9.2 MB/s eta 0:00:01\r\u001b[K     |███████████████████████████████▋| 1.6 MB 9.2 MB/s eta 0:00:01\r\u001b[K     |███████████████████████████████▉| 1.6 MB 9.2 MB/s eta 0:00:01\r\u001b[K     |████████████████████████████████| 1.7 MB 9.2 MB/s \n",
            "\u001b[?25hRequirement already satisfied: promise<3,>=2.0 in /usr/local/lib/python3.7/dist-packages (from wandb) (2.3)\n",
            "Requirement already satisfied: six>=1.13.0 in /usr/local/lib/python3.7/dist-packages (from wandb) (1.15.0)\n",
            "Requirement already satisfied: Click!=8.0.0,>=7.0 in /usr/local/lib/python3.7/dist-packages (from wandb) (7.1.2)\n",
            "Requirement already satisfied: PyYAML in /usr/local/lib/python3.7/dist-packages (from wandb) (3.13)\n",
            "Collecting pathtools\n",
            "  Downloading pathtools-0.1.2.tar.gz (11 kB)\n",
            "Collecting GitPython>=1.0.0\n",
            "  Downloading GitPython-3.1.18-py3-none-any.whl (170 kB)\n",
            "\u001b[K     |████████████████████████████████| 170 kB 52.4 MB/s \n",
            "\u001b[?25hCollecting sentry-sdk>=1.0.0\n",
            "  Downloading sentry_sdk-1.3.1-py2.py3-none-any.whl (133 kB)\n",
            "\u001b[K     |████████████████████████████████| 133 kB 47.3 MB/s \n",
            "\u001b[?25hCollecting configparser>=3.8.1\n",
            "  Downloading configparser-5.0.2-py3-none-any.whl (19 kB)\n",
            "Collecting subprocess32>=3.5.3\n",
            "  Downloading subprocess32-3.5.4.tar.gz (97 kB)\n",
            "\u001b[K     |████████████████████████████████| 97 kB 5.9 MB/s \n",
            "\u001b[?25hRequirement already satisfied: python-dateutil>=2.6.1 in /usr/local/lib/python3.7/dist-packages (from wandb) (2.8.2)\n",
            "Requirement already satisfied: protobuf>=3.12.0 in /usr/local/lib/python3.7/dist-packages (from wandb) (3.17.3)\n",
            "Requirement already satisfied: requests<3,>=2.0.0 in /usr/local/lib/python3.7/dist-packages (from wandb) (2.23.0)\n",
            "Requirement already satisfied: psutil>=5.0.0 in /usr/local/lib/python3.7/dist-packages (from wandb) (5.4.8)\n",
            "Collecting shortuuid>=0.5.0\n",
            "  Downloading shortuuid-1.0.1-py3-none-any.whl (7.5 kB)\n",
            "Collecting docker-pycreds>=0.4.0\n",
            "  Downloading docker_pycreds-0.4.0-py2.py3-none-any.whl (9.0 kB)\n",
            "Collecting gitdb<5,>=4.0.1\n",
            "  Downloading gitdb-4.0.7-py3-none-any.whl (63 kB)\n",
            "\u001b[K     |████████████████████████████████| 63 kB 1.6 MB/s \n",
            "\u001b[?25hRequirement already satisfied: typing-extensions>=3.7.4.0 in /usr/local/lib/python3.7/dist-packages (from GitPython>=1.0.0->wandb) (3.7.4.3)\n",
            "Collecting smmap<5,>=3.0.1\n",
            "  Downloading smmap-4.0.0-py2.py3-none-any.whl (24 kB)\n",
            "Requirement already satisfied: certifi>=2017.4.17 in /usr/local/lib/python3.7/dist-packages (from requests<3,>=2.0.0->wandb) (2021.5.30)\n",
            "Requirement already satisfied: idna<3,>=2.5 in /usr/local/lib/python3.7/dist-packages (from requests<3,>=2.0.0->wandb) (2.10)\n",
            "Requirement already satisfied: urllib3!=1.25.0,!=1.25.1,<1.26,>=1.21.1 in /usr/local/lib/python3.7/dist-packages (from requests<3,>=2.0.0->wandb) (1.24.3)\n",
            "Requirement already satisfied: chardet<4,>=3.0.2 in /usr/local/lib/python3.7/dist-packages (from requests<3,>=2.0.0->wandb) (3.0.4)\n",
            "Building wheels for collected packages: subprocess32, pathtools\n",
            "  Building wheel for subprocess32 (setup.py) ... \u001b[?25l\u001b[?25hdone\n",
            "  Created wheel for subprocess32: filename=subprocess32-3.5.4-py3-none-any.whl size=6502 sha256=6b0b3525e370bf2bb23f3924113863a1d050963b0f2636b7771592871427936c\n",
            "  Stored in directory: /root/.cache/pip/wheels/50/ca/fa/8fca8d246e64f19488d07567547ddec8eb084e8c0d7a59226a\n",
            "  Building wheel for pathtools (setup.py) ... \u001b[?25l\u001b[?25hdone\n",
            "  Created wheel for pathtools: filename=pathtools-0.1.2-py3-none-any.whl size=8807 sha256=8a28c79eda04d7f6312ff106ac7671474e6480617f0516d773072600299493de\n",
            "  Stored in directory: /root/.cache/pip/wheels/3e/31/09/fa59cef12cdcfecc627b3d24273699f390e71828921b2cbba2\n",
            "Successfully built subprocess32 pathtools\n",
            "Installing collected packages: smmap, gitdb, subprocess32, shortuuid, sentry-sdk, pathtools, GitPython, docker-pycreds, configparser, wandb\n",
            "Successfully installed GitPython-3.1.18 configparser-5.0.2 docker-pycreds-0.4.0 gitdb-4.0.7 pathtools-0.1.2 sentry-sdk-1.3.1 shortuuid-1.0.1 smmap-4.0.0 subprocess32-3.5.4 wandb-0.12.1\n"
          ]
        }
      ]
    },
    {
      "cell_type": "markdown",
      "metadata": {
        "id": "RWdObfUAyWah"
      },
      "source": [
        "# ⛄ Step 2: Import and Login\n",
        "\n",
        "If you have not yet created a W&B account you can visit https://wandb.ai/site to do the same. "
      ]
    },
    {
      "cell_type": "code",
      "metadata": {
        "colab": {
          "base_uri": "https://localhost:8080/"
        },
        "id": "1EbyEiuIyK53",
        "outputId": "b1d736af-21c4-43da-acad-86ab6b134978"
      },
      "source": [
        "import wandb\n",
        "\n",
        "!wandb login"
      ],
      "execution_count": 5,
      "outputs": [
        {
          "output_type": "stream",
          "name": "stdout",
          "text": [
            "\u001b[34m\u001b[1mwandb\u001b[0m: You can find your API key in your browser here: https://wandb.ai/authorize\n",
            "\u001b[34m\u001b[1mwandb\u001b[0m: Paste an API key from your profile and hit enter: \n",
            "\u001b[34m\u001b[1mwandb\u001b[0m: Appending key for api.wandb.ai to your netrc file: /root/.netrc\n"
          ]
        }
      ]
    },
    {
      "cell_type": "code",
      "metadata": {
        "id": "OXcuhzFb0HfK"
      },
      "source": [
        "# Extra import\n",
        "import numpy as np"
      ],
      "execution_count": 6,
      "outputs": []
    },
    {
      "cell_type": "markdown",
      "metadata": {
        "id": "UevbSaIh1_7F"
      },
      "source": [
        "# ❄️ Create Data"
      ]
    },
    {
      "cell_type": "code",
      "metadata": {
        "id": "N4q4q6QA2CBx"
      },
      "source": [
        "DECAY_RATE = 2\n",
        "\n",
        "# x-axis\n",
        "x = np.linspace(0, 10, 100)\n",
        "\n",
        "# y-axis\n",
        "y = np.exp(-x/DECAY_RATE)"
      ],
      "execution_count": 17,
      "outputs": []
    },
    {
      "cell_type": "markdown",
      "metadata": {
        "id": "O85yVwgby9MT"
      },
      "source": [
        "# 🌊 Step 3: Launch your first W&B Run\n",
        "\n",
        "Note that this is a dummy run, i.e, we are not logging/tracking anything meaninful. If it your first time using Weights and Biases, understand that the mentioned steps is all you need to instrument any training, evaluation, etc pipeline with W&B."
      ]
    },
    {
      "cell_type": "code",
      "metadata": {
        "colab": {
          "base_uri": "https://localhost:8080/",
          "height": 573,
          "referenced_widgets": [
            "dd3c10042c5a4ceeb70c721ddc8c40a9",
            "8bd6410cf3bd4277acda6e0aeae88a52",
            "2b3826dd7a1d412e93d7ee4d1eaa9644",
            "fba490b6e40048c09a05dba9ed2ffb72",
            "343ff83a2cac4941bb1166fb920df901",
            "685647bbdc6341689161c765f87f6b34",
            "db4dc353b7064cc8acca4b679ca45454",
            "e52fbff46ce2438f81d01aac9dbef8bc"
          ]
        },
        "id": "RgnJ2ozyybkp",
        "outputId": "e5541fd8-d415-4e87-b1c6-7d8d16cceb5a"
      },
      "source": [
        "# 1. Use `wandb.init` to initialize a run.\n",
        "run = wandb.init(project='my-simple-project', name='my-dummy-run')\n",
        "\n",
        "# 2. Use `wandb.log` to log almost anything (scalar, vector, images, text, video, etc.)\n",
        "for i in y:\n",
        "  wandb.log({'dummy_value': i})\n",
        "\n",
        "# 3. Close the W&B run. Only required in Jupyter notebooks.\n",
        "wandb.finish()"
      ],
      "execution_count": 16,
      "outputs": [
        {
          "output_type": "display_data",
          "data": {
            "text/html": [
              "\n",
              "                Tracking run with wandb version 0.12.1<br/>\n",
              "                Syncing run <strong style=\"color:#cdcd00\">my-dummy-run</strong> to <a href=\"https://wandb.ai\" target=\"_blank\">Weights & Biases</a> <a href=\"https://docs.wandb.com/integrations/jupyter.html\" target=\"_blank\">(Documentation)</a>.<br/>\n",
              "                Project page: <a href=\"https://wandb.ai/ayushthakur/my-simple-project\" target=\"_blank\">https://wandb.ai/ayushthakur/my-simple-project</a><br/>\n",
              "                Run page: <a href=\"https://wandb.ai/ayushthakur/my-simple-project/runs/23on5c42\" target=\"_blank\">https://wandb.ai/ayushthakur/my-simple-project/runs/23on5c42</a><br/>\n",
              "                Run data is saved locally in <code>/content/wandb/run-20210912_114917-23on5c42</code><br/><br/>\n",
              "            "
            ],
            "text/plain": [
              "<IPython.core.display.HTML object>"
            ]
          },
          "metadata": {}
        },
        {
          "output_type": "display_data",
          "data": {
            "text/html": [
              "<br/>Waiting for W&B process to finish, PID 273<br/>Program ended successfully."
            ],
            "text/plain": [
              "<IPython.core.display.HTML object>"
            ]
          },
          "metadata": {}
        },
        {
          "output_type": "display_data",
          "data": {
            "application/vnd.jupyter.widget-view+json": {
              "model_id": "dd3c10042c5a4ceeb70c721ddc8c40a9",
              "version_minor": 0,
              "version_major": 2
            },
            "text/plain": [
              "VBox(children=(Label(value=' 0.00MB of 0.00MB uploaded (0.00MB deduped)\\r'), FloatProgress(value=1.0, max=1.0)…"
            ]
          },
          "metadata": {}
        },
        {
          "output_type": "display_data",
          "data": {
            "text/html": [
              "Find user logs for this run at: <code>/content/wandb/run-20210912_114917-23on5c42/logs/debug.log</code>"
            ],
            "text/plain": [
              "<IPython.core.display.HTML object>"
            ]
          },
          "metadata": {}
        },
        {
          "output_type": "display_data",
          "data": {
            "text/html": [
              "Find internal logs for this run at: <code>/content/wandb/run-20210912_114917-23on5c42/logs/debug-internal.log</code>"
            ],
            "text/plain": [
              "<IPython.core.display.HTML object>"
            ]
          },
          "metadata": {}
        },
        {
          "output_type": "display_data",
          "data": {
            "text/html": [
              "<h3>Run summary:</h3><br/><style>\n",
              "    table.wandb td:nth-child(1) { padding: 0 10px; text-align: right }\n",
              "    </style><table class=\"wandb\">\n",
              "<tr><td>dummy_value</td><td>0.00674</td></tr><tr><td>_runtime</td><td>4</td></tr><tr><td>_timestamp</td><td>1631447361</td></tr><tr><td>_step</td><td>99</td></tr></table>"
            ],
            "text/plain": [
              "<IPython.core.display.HTML object>"
            ]
          },
          "metadata": {}
        },
        {
          "output_type": "display_data",
          "data": {
            "text/html": [
              "<h3>Run history:</h3><br/><style>\n",
              "    table.wandb td:nth-child(1) { padding: 0 10px; text-align: right }\n",
              "    </style><table class=\"wandb\">\n",
              "<tr><td>dummy_value</td><td>█▇▆▆▅▅▄▄▄▃▃▃▃▂▂▂▂▂▂▂▂▁▁▁▁▁▁▁▁▁▁▁▁▁▁▁▁▁▁▁</td></tr><tr><td>_runtime</td><td>▁▁▁▁▁▁▁▁▁▁▁▁▁▁▁▁▁▁▁▁▁▁▁▁▁▁▁▁▁▁▁▁▁▁▁▁▁▁▁▁</td></tr><tr><td>_timestamp</td><td>▁▁▁▁▁▁▁▁▁▁▁▁▁▁▁▁▁▁▁▁▁▁▁▁▁▁▁▁▁▁▁▁▁▁▁▁▁▁▁▁</td></tr><tr><td>_step</td><td>▁▁▁▁▂▂▂▂▂▃▃▃▃▃▃▄▄▄▄▄▅▅▅▅▅▅▆▆▆▆▆▇▇▇▇▇▇███</td></tr></table><br/>"
            ],
            "text/plain": [
              "<IPython.core.display.HTML object>"
            ]
          },
          "metadata": {}
        },
        {
          "output_type": "display_data",
          "data": {
            "text/html": [
              "Synced 4 W&B file(s), 0 media file(s), 0 artifact file(s) and 0 other file(s)"
            ],
            "text/plain": [
              "<IPython.core.display.HTML object>"
            ]
          },
          "metadata": {}
        },
        {
          "output_type": "display_data",
          "data": {
            "text/html": [
              "\n",
              "                    <br/>Synced <strong style=\"color:#cdcd00\">my-dummy-run</strong>: <a href=\"https://wandb.ai/ayushthakur/my-simple-project/runs/23on5c42\" target=\"_blank\">https://wandb.ai/ayushthakur/my-simple-project/runs/23on5c42</a><br/>\n",
              "                "
            ],
            "text/plain": [
              "<IPython.core.display.HTML object>"
            ]
          },
          "metadata": {}
        }
      ]
    },
    {
      "cell_type": "markdown",
      "metadata": {
        "id": "ArrQL9G62PIE"
      },
      "source": [
        "Click on the W&B Run page link above and head over to the W&B run page. \n",
        "\n",
        "![img](https://i.imgur.com/VlMuHE9.png)"
      ]
    }
  ]
}